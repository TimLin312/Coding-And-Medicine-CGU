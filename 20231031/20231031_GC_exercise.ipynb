{
  "nbformat": 4,
  "nbformat_minor": 0,
  "metadata": {
    "colab": {
      "provenance": []
    },
    "kernelspec": {
      "name": "python3",
      "display_name": "Python 3"
    },
    "language_info": {
      "name": "python"
    }
  },
  "cells": [
    {
      "cell_type": "code",
      "execution_count": 1,
      "metadata": {
        "id": "v1_0-OKyib1M",
        "colab": {
          "base_uri": "https://localhost:8080/"
        },
        "outputId": "11b2c662-2989-4928-9e94-fc05fafab404"
      },
      "outputs": [
        {
          "output_type": "stream",
          "name": "stdout",
          "text": [
            "請輸入一個數字:89\n",
            "89\n"
          ]
        }
      ],
      "source": [
        "a = int(input('請輸入一個數字:'))\n",
        "x=0\n",
        "if a<2:\n",
        "    print('錯誤')\n",
        "else:\n",
        "  for b in range(1,(a+1)):\n",
        "    n=0\n",
        "    for i in range(1,(b+1)):\n",
        "      if b%i==0:\n",
        "        n+=1\n",
        "    if n==2:\n",
        "      x=b\n",
        "  print(x)"
      ]
    },
    {
      "cell_type": "code",
      "source": [
        "a=input('請輸入一列數字，數字間以逗號隔開:')\n",
        "a=a.split(',')\n",
        "b=[ ]\n",
        "for i in range(0,len(a)):\n",
        "  n=0\n",
        "  for j in range(0,len(a)):\n",
        "    if a[i]>a[j]:\n",
        "      n+=1\n",
        "  b.append(n)\n",
        "print(b)"
      ],
      "metadata": {
        "colab": {
          "base_uri": "https://localhost:8080/"
        },
        "id": "mzd0ht8SnNyZ",
        "outputId": "05a4099d-f3c3-40fe-f92a-a6e4ae669984"
      },
      "execution_count": 2,
      "outputs": [
        {
          "output_type": "stream",
          "name": "stdout",
          "text": [
            "請輸入一列數字，數字間以逗號隔開:1,2,3,4,5,6\n",
            "[0, 1, 2, 3, 4, 5]\n"
          ]
        }
      ]
    },
    {
      "cell_type": "code",
      "source": [
        "box=list(input('輸入:'))\n",
        "ans=[]\n",
        "for i in range(0,len(box)):\n",
        "  k=0\n",
        "  for j in range(0,len(box)):\n",
        "    if int(box[j])==1:\n",
        "      n=abs(i-j)\n",
        "      k=n+k\n",
        "  ans.append(k)\n",
        "print(ans)"
      ],
      "metadata": {
        "colab": {
          "base_uri": "https://localhost:8080/"
        },
        "id": "Y4PDPQ9Up2QZ",
        "outputId": "bdd3aca4-f09c-4c99-80de-49f95f63b4d5"
      },
      "execution_count": 3,
      "outputs": [
        {
          "output_type": "stream",
          "name": "stdout",
          "text": [
            "輸入:001101\n",
            "[10, 7, 4, 3, 4, 5]\n"
          ]
        }
      ]
    }
  ]
}