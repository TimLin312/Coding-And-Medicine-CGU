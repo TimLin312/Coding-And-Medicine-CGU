{
  "nbformat": 4,
  "nbformat_minor": 0,
  "metadata": {
    "colab": {
      "provenance": []
    },
    "kernelspec": {
      "name": "python3",
      "display_name": "Python 3"
    },
    "language_info": {
      "name": "python"
    }
  },
  "cells": [
    {
      "cell_type": "code",
      "execution_count": null,
      "metadata": {
        "colab": {
          "base_uri": "https://localhost:8080/"
        },
        "id": "qFZFlyZY2tZT",
        "outputId": "8e5b9d9d-f471-45ba-f1cc-63b30ec90bc6"
      },
      "outputs": [
        {
          "output_type": "stream",
          "name": "stdout",
          "text": [
            "請輸入學生成績，每個成績以空格隔開1 100 79 80 81\n",
            "[1, 100, 79, 80, 81]\n",
            "[79, 80, 81]\n",
            "80.0\n"
          ]
        }
      ],
      "source": [
        "#Q1\n",
        "a=input('請輸入學生成績，每個成績以空格隔開')\n",
        "b=a.split(' ')\n",
        "c=[int(x) for x in b]\n",
        "print(c)\n",
        "c.remove(max(c))\n",
        "c.remove(min(c))\n",
        "print(c)\n",
        "print(sum(c)/3)\n"
      ]
    },
    {
      "cell_type": "code",
      "source": [
        "#Q2\n",
        "a=input('請輸入在運算子左方的數字')\n",
        "b=input('請輸入運算子')\n",
        "c=input('請輸入在運算子右方的數字')\n",
        "d=a+b+c\n",
        "eval(d)"
      ],
      "metadata": {
        "colab": {
          "base_uri": "https://localhost:8080/"
        },
        "id": "RO00TSuKNlAb",
        "outputId": "a9914d72-aed3-48ee-f3de-7addbfbc5228"
      },
      "execution_count": 4,
      "outputs": [
        {
          "name": "stdout",
          "output_type": "stream",
          "text": [
            "請輸入在運算子左方的數字3\n",
            "請輸入運算子*\n",
            "請輸入在運算子右方的數字5\n"
          ]
        },
        {
          "output_type": "execute_result",
          "data": {
            "text/plain": [
              "15"
            ]
          },
          "metadata": {},
          "execution_count": 4
        }
      ]
    },
    {
      "cell_type": "code",
      "source": [
        "#Q3\n",
        "a=int(input('請輸入年份'))\n",
        "if a<1582:\n",
        "  if a%4==0:\n",
        "     print('是閏年')\n",
        "  else:\n",
        "    print('是平年')\n",
        "else:\n",
        "  if a%400==0:\n",
        "    print('是閏年')\n",
        "  elif a%100==0:\n",
        "    print('是平年')\n",
        "  elif a%4==0:\n",
        "    print('是閏年')\n",
        "  else:\n",
        "    print('是平年')\n",
        "#1582年，教宗格里．高利十三世在這一天宣布將實施了1600多年的「儒略曆」改為「格里曆」，所以置閏制度有所改變"
      ],
      "metadata": {
        "colab": {
          "base_uri": "https://localhost:8080/"
        },
        "id": "R5P_b3li-HWJ",
        "outputId": "ae12cfbf-6d23-4049-f319-a89358311fdb"
      },
      "execution_count": 5,
      "outputs": [
        {
          "output_type": "stream",
          "name": "stdout",
          "text": [
            "請輸入年份2023\n",
            "是平年\n"
          ]
        }
      ]
    }
  ]
}