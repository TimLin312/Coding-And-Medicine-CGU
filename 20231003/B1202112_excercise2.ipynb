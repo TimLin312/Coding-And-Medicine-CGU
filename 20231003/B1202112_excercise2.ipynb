{
  "nbformat": 4,
  "nbformat_minor": 0,
  "metadata": {
    "colab": {
      "provenance": []
    },
    "kernelspec": {
      "name": "python3",
      "display_name": "Python 3"
    },
    "language_info": {
      "name": "python"
    }
  },
  "cells": [
    {
      "cell_type": "code",
      "source": [
        "a='C,B,A'\n",
        "b=['F','G','H']\n",
        "d=a.split(',')+b\n",
        "d[0]='K'\n",
        "e=d.pop(2)\n",
        "print(e)\n",
        "del d[1:4]\n",
        "d.append('U')\n",
        "print(d)"
      ],
      "metadata": {
        "colab": {
          "base_uri": "https://localhost:8080/"
        },
        "id": "CRFDCshlcw06",
        "outputId": "ac1bfbd8-e93f-4b20-e1a4-a43526b59f0b"
      },
      "execution_count": 17,
      "outputs": [
        {
          "output_type": "stream",
          "name": "stdout",
          "text": [
            "A\n",
            "['K', 'H', 'U']\n"
          ]
        }
      ]
    },
    {
      "cell_type": "code",
      "source": [
        "a=float(input('輸入體重(kg)'))\n",
        "b=float(input('輸入身高(m)'))\n",
        "a/=(b**2)\n",
        "print('BMI:'+str(a))\n",
        "if a<18.5:\n",
        "  print('體位:過輕')\n",
        "elif 18.5<=a<24:\n",
        "  print('體位:適中')\n",
        "elif 24<=a<27:\n",
        "  print('體位:')\n",
        "else:\n",
        "  print('體位:肥胖')"
      ],
      "metadata": {
        "colab": {
          "base_uri": "https://localhost:8080/"
        },
        "id": "Dxsq0hapluT8",
        "outputId": "d796b86f-ed4b-4a9e-d913-2df6f519ad57"
      },
      "execution_count": 26,
      "outputs": [
        {
          "output_type": "stream",
          "name": "stdout",
          "text": [
            "輸入體重(kg)60\n",
            "輸入身高(m)1.75\n",
            "BMI:19.591836734693878\n",
            "體位:適中\n"
          ]
        }
      ]
    }
  ]
}