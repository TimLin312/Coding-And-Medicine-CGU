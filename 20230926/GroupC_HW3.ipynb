{
  "nbformat": 4,
  "nbformat_minor": 0,
  "metadata": {
    "colab": {
      "provenance": []
    },
    "kernelspec": {
      "name": "python3",
      "display_name": "Python 3"
    },
    "language_info": {
      "name": "python"
    }
  },
  "cells": [
    {
      "cell_type": "code",
      "execution_count": null,
      "metadata": {
        "colab": {
          "base_uri": "https://localhost:8080/"
        },
        "id": "FWzNFSNAoKo7",
        "outputId": "b0151eaa-b46b-432c-e0cf-b13224a357c4"
      },
      "outputs": [
        {
          "output_type": "stream",
          "name": "stdout",
          "text": [
            "I'm a student\n"
          ]
        }
      ],
      "source": [
        "print (\"I'm a student\")"
      ]
    },
    {
      "cell_type": "code",
      "source": [
        "a=input ('輸入A點X座標')\n",
        "a=float (a)\n",
        "b=input ('輸入A點Y座標')\n",
        "b=float (b)\n",
        "c=input ('輸入B點X座標')\n",
        "c=float (c)\n",
        "d=input ('輸入B點Y座標')\n",
        "d=float (d)\n",
        "distance=(a-c)**2+(b-d)**2\n",
        "distance=float (distance)\n",
        "print ('AB間距離=',distance**0.5)"
      ],
      "metadata": {
        "colab": {
          "base_uri": "https://localhost:8080/"
        },
        "id": "NM2CgKS7oZjq",
        "outputId": "0ed9c1ad-2715-44fa-c892-460affbe73ee"
      },
      "execution_count": null,
      "outputs": [
        {
          "output_type": "stream",
          "name": "stdout",
          "text": [
            "輸入A點X座標0\n",
            "輸入A點Y座標0\n",
            "輸入B點X座標4\n",
            "輸入B點Y座標3\n",
            "AB間距離= 5.0\n"
          ]
        }
      ]
    },
    {
      "cell_type": "code",
      "source": [
        "w=input ('輸入體重(kg):')\n",
        "h=input ('輸入身高(m):')\n",
        "w=float (w)\n",
        "h=float (h)\n",
        "w/=(h**2)\n",
        "print ('BMI為',w)\n",
        "print (int(w<18.5))\n"
      ],
      "metadata": {
        "colab": {
          "base_uri": "https://localhost:8080/"
        },
        "id": "L3AEsaX3jvs5",
        "outputId": "7add158b-c1f3-4a8c-8095-f457cff6951e"
      },
      "execution_count": null,
      "outputs": [
        {
          "output_type": "stream",
          "name": "stdout",
          "text": [
            "輸入體重(kg):58\n",
            "輸入身高(m):1.75\n",
            "BMI為 18.93877551020408\n",
            "0\n"
          ]
        }
      ]
    }
  ]
}