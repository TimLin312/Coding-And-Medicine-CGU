{
  "nbformat": 4,
  "nbformat_minor": 0,
  "metadata": {
    "colab": {
      "provenance": []
    },
    "kernelspec": {
      "name": "python3",
      "display_name": "Python 3"
    },
    "language_info": {
      "name": "python"
    }
  },
  "cells": [
    {
      "cell_type": "code",
      "execution_count": null,
      "metadata": {
        "colab": {
          "base_uri": "https://localhost:8080/"
        },
        "id": "3Mh7xa80lLfG",
        "outputId": "86dea9d5-d364-49ba-ed02-790a017a1dfe"
      },
      "outputs": [
        {
          "output_type": "stream",
          "name": "stdout",
          "text": [
            "耶誕樹層數9\n",
            "        *\n",
            "       ***\n",
            "      *****\n",
            "     *******\n",
            "    *********\n",
            "   ***********\n",
            "  *************\n",
            " ***************\n",
            "*****************\n",
            "       ***\n",
            "       ***\n",
            "       ***\n",
            "       ***\n",
            "       ***\n"
          ]
        }
      ],
      "source": [
        "#Q1\n",
        "def draw(x):\n",
        "  for i in range(1,x+1):\n",
        "    print(' '*(x-i)+'*'*(2*i-1))\n",
        "  for j in range(1,6):\n",
        "    print(' '*(x-2)+'*'*3)\n",
        "y=int(input('耶誕樹層數'))\n",
        "draw(y)"
      ]
    },
    {
      "cell_type": "code",
      "source": [
        "#Q2\n",
        "def BMI(x,y):\n",
        "  return x/y**2\n",
        "\n",
        "def judge(a):\n",
        "  if a<18.5:\n",
        "    return '過輕'\n",
        "  elif 18.5<=a<24:\n",
        "    return '適中'\n",
        "  elif 24<=a<27:\n",
        "    return '過重'\n",
        "  else:\n",
        "    return '肥胖'\n",
        "\n",
        "try:\n",
        "  w=float(input('輸入體重(kg)'))\n",
        "  h=float(input('輸入身高(cm)'))\n",
        "  d=float(BMI(w,h/100))\n",
        "  print(f'BMI:{d}')\n",
        "  print(f'體位:{judge(d)}')\n",
        "except:\n",
        "  print('輸入內容錯誤')\n"
      ],
      "metadata": {
        "colab": {
          "base_uri": "https://localhost:8080/"
        },
        "id": "jsnNVqMOpnIa",
        "outputId": "64b3bbc4-328b-4332-a57b-8ec87fc373a6"
      },
      "execution_count": null,
      "outputs": [
        {
          "output_type": "stream",
          "name": "stdout",
          "text": [
            "輸入體重(kg)60\n",
            "輸入身高(cm)175\n",
            "BMI:19.591836734693878\n",
            "體位:適中\n"
          ]
        }
      ]
    }
  ]
}